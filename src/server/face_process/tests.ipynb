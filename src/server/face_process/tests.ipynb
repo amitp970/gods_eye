{
 "cells": [
  {
   "cell_type": "code",
   "execution_count": 1,
   "metadata": {},
   "outputs": [],
   "source": [
    "import faiss\n",
    "import numpy as np"
   ]
  },
  {
   "cell_type": "code",
   "execution_count": 2,
   "metadata": {},
   "outputs": [],
   "source": [
    "index = faiss.read_index(r\"C:\\Users\\amitp\\cs-project\\gods_eye\\data\\faiss\\faces_index.index\")"
   ]
  },
  {
   "cell_type": "code",
   "execution_count": 3,
   "metadata": {},
   "outputs": [],
   "source": [
    "import deepface_encapsulator"
   ]
  },
  {
   "cell_type": "code",
   "execution_count": 5,
   "metadata": {},
   "outputs": [
    {
     "data": {
      "text/plain": [
       "array([[[117,  96,  95],\n",
       "        [125, 107, 106],\n",
       "        [ 24,  10,  11],\n",
       "        ...,\n",
       "        [ 21,  23,  24],\n",
       "        [ 24,  23,  25],\n",
       "        [ 23,  22,  24]],\n",
       "\n",
       "       [[128, 107, 106],\n",
       "        [132, 114, 113],\n",
       "        [ 32,  20,  20],\n",
       "        ...,\n",
       "        [ 24,  26,  27],\n",
       "        [ 26,  25,  27],\n",
       "        [ 26,  25,  27]],\n",
       "\n",
       "       [[127, 106, 108],\n",
       "        [129, 113, 114],\n",
       "        [ 42,  29,  31],\n",
       "        ...,\n",
       "        [ 32,  34,  35],\n",
       "        [ 31,  30,  32],\n",
       "        [ 31,  30,  32]],\n",
       "\n",
       "       ...,\n",
       "\n",
       "       [[ 80,  81,  79],\n",
       "        [ 81,  82,  80],\n",
       "        [ 81,  82,  80],\n",
       "        ...,\n",
       "        [ 37,  57,  82],\n",
       "        [ 38,  59,  81],\n",
       "        [ 38,  59,  81]],\n",
       "\n",
       "       [[ 81,  82,  78],\n",
       "        [ 81,  82,  78],\n",
       "        [ 82,  83,  81],\n",
       "        ...,\n",
       "        [ 38,  58,  83],\n",
       "        [ 40,  61,  83],\n",
       "        [ 41,  62,  84]],\n",
       "\n",
       "       [[ 84,  83,  79],\n",
       "        [ 84,  83,  79],\n",
       "        [ 84,  82,  81],\n",
       "        ...,\n",
       "        [ 38,  58,  83],\n",
       "        [ 42,  63,  85],\n",
       "        [ 44,  65,  87]]], dtype=uint8)"
      ]
     },
     "execution_count": 5,
     "metadata": {},
     "output_type": "execute_result"
    }
   ],
   "source": [
    "import numpy as np\n",
    "import cv2\n",
    "\n",
    "with open(r\"C:\\Users\\amitp\\cs-project\\gods_eye\\data\\faces\\web\\20240320_114205.jpg\", 'rb') as f:\n",
    "    content = f.read()\n",
    "\n",
    "    image_data = np.frombuffer(content, dtype=np.uint8)\n",
    "    image = cv2.imdecode(image_data, cv2.IMREAD_COLOR)\n",
    "image"
   ]
  },
  {
   "cell_type": "code",
   "execution_count": 7,
   "metadata": {},
   "outputs": [],
   "source": [
    "model = deepface_encapsulator.FeatureExtractor()\n"
   ]
  },
  {
   "cell_type": "code",
   "execution_count": 157,
   "metadata": {},
   "outputs": [],
   "source": [
    "import uuid\n",
    "embedding = model.represent(image)[0]['embedding']\n",
    "np.expand_dims(embedding, axis=0)\n",
    "index = faiss.IndexFlatL2(128)\n",
    "index = faiss.IndexIDMap(index)\n",
    "index.add_with_ids(np.expand_dims(embedding, axis=0), np.array((uuid.uuid4().int & ((1 << 64) - 1))).astype('int64'))"
   ]
  },
  {
   "cell_type": "code",
   "execution_count": 153,
   "metadata": {},
   "outputs": [
    {
     "data": {
      "text/plain": [
       "array(13087109171767709362, dtype=uint64)"
      ]
     },
     "execution_count": 153,
     "metadata": {},
     "output_type": "execute_result"
    }
   ],
   "source": [
    "np.array((uuid.uuid4().int & ((1 << 64) - 1))).astype('uint64')"
   ]
  },
  {
   "cell_type": "code",
   "execution_count": 162,
   "metadata": {},
   "outputs": [],
   "source": [
    "index.add_with_ids(np.expand_dims(embedding, axis=0), np.array((uuid.uuid4().int & ((1 << 64) - 1))).astype('int64'))"
   ]
  },
  {
   "cell_type": "code",
   "execution_count": 177,
   "metadata": {},
   "outputs": [
    {
     "data": {
      "text/plain": [
       "(array([[0.0000000e+00, 0.0000000e+00, 3.4028235e+38, 3.4028235e+38,\n",
       "         3.4028235e+38]], dtype=float32),\n",
       " array([[-6174049859093649238, -8173371359464114154,                   -1,\n",
       "                           -1,                   -1]], dtype=int64))"
      ]
     },
     "execution_count": 177,
     "metadata": {},
     "output_type": "execute_result"
    }
   ],
   "source": [
    "index.search(np.expand_dims(embedding, axis=0), 5)"
   ]
  },
  {
   "cell_type": "code",
   "execution_count": 173,
   "metadata": {},
   "outputs": [],
   "source": [
    "with open(r\"C:\\Users\\amitp\\cs-project\\gods_eye\\data\\faces\\web\\20240320_114208.jpg\", 'rb') as f:\n",
    "    content = f.read()\n",
    "\n",
    "    image_data = np.frombuffer(content, dtype=np.uint8)\n",
    "    image = cv2.imdecode(image_data, cv2.IMREAD_COLOR)"
   ]
  },
  {
   "cell_type": "code",
   "execution_count": 178,
   "metadata": {},
   "outputs": [],
   "source": [
    "embedding2 = model.represent(image)[0]['embedding']"
   ]
  },
  {
   "cell_type": "code",
   "execution_count": 189,
   "metadata": {},
   "outputs": [
    {
     "data": {
      "text/plain": [
       "(array([[8.0179462e+00, 8.0179462e+00, 3.4028235e+38, 3.4028235e+38,\n",
       "         3.4028235e+38]], dtype=float32),\n",
       " array([[-6174049859093649238, -8173371359464114154,                   -1,\n",
       "                           -1,                   -1]], dtype=int64))"
      ]
     },
     "execution_count": 189,
     "metadata": {},
     "output_type": "execute_result"
    }
   ],
   "source": [
    "index.search(np.expand_dims(embedding2, axis=0),5)\n"
   ]
  },
  {
   "cell_type": "code",
   "execution_count": 181,
   "metadata": {},
   "outputs": [
    {
     "data": {
      "text/plain": [
       "0.8"
      ]
     },
     "execution_count": 181,
     "metadata": {},
     "output_type": "execute_result"
    }
   ],
   "source": [
    "model.find_threshold()"
   ]
  },
  {
   "cell_type": "code",
   "execution_count": 186,
   "metadata": {},
   "outputs": [
    {
     "data": {
      "text/plain": [
       "array([-5995069667505077051, -8326794940784798323, -8012097212657313733,\n",
       "       -6166518652642895901, -8147818962007891358, -6363286773728839858,\n",
       "       -7740712415945365646, -6017731234426008056, -9152510885823312646,\n",
       "       -6574100092285589487, -5335632659403958453, -5495702820190802307,\n",
       "       -7668869741950020227, -7881065372651498754, -4991807790496372309,\n",
       "       -7729503273579789583, -7571630643260882911, -8406349861121488316,\n",
       "       -8542169672598004909, -8227061736066251176, -8486544024235300235,\n",
       "       -8904039623707806669, -7904986489500218833, -8243143108059872603,\n",
       "       -7804675565549545980, -5844979344492858842, -4726303534987408489,\n",
       "       -6121726283183884927, -7632805082883581382, -5010916618491104889,\n",
       "       -7391027444615665778, -6897098454012200524, -4979596273798233883,\n",
       "       -4795243642765931475, -7429558061840191230, -7801612123474395593,\n",
       "       -6434111167547386005, -4643846120745320205, -5921192278303942556,\n",
       "       -7950772183976695349, -8613397940344563647, -5086062371183479305,\n",
       "       -6117225053580511156, -8313804542889971616, -8060617453414014141,\n",
       "       -6506152431076240643, -4707097135426949917, -6211949506221807750,\n",
       "       -8579993972457719741, -4668680070380575329, -6879088125165819902,\n",
       "       -5944431263965460399, -5271126764545912229, -6857039140555297978,\n",
       "       -5542387746185612803, -8136459030058751556, -4723887679314921336,\n",
       "       -7911883123150077822, -7803881568675771142, -4645091068311413634,\n",
       "       -8358727846534656005, -8694561329805524647, -6570904781320844046,\n",
       "       -6651326711689518818, -6916500835194616528, -7081357088358105140,\n",
       "       -6583495591450067305, -7267328102005984049, -4997584501709000355,\n",
       "       -6305222406621954071, -6895643538477246224, -5873073748504604593,\n",
       "       -5491794069397547002, -5288858035354956359, -4898218543481588244,\n",
       "       -6900687263748500484, -6457817082196623873, -8692891602169955496,\n",
       "       -5963992666255361594, -6090643072802452742, -5285529732112801326,\n",
       "       -5292422088713963912, -6045652900590072651, -6336886485861909730,\n",
       "       -7048442718261789017, -7607381945587957298, -8508505313598343926,\n",
       "       -9192186935742481222, -4813763310711900788, -5181624513526603150,\n",
       "       -5559524184221723242, -8929731691096839815, -5223612719703772138,\n",
       "       -5718064392023376088, -8001283166347228911, -6230915169778865702,\n",
       "       -5818539686430925243, -6024277223333725782, -8434704939905091722,\n",
       "       -8315322765452526800], dtype=int64)"
      ]
     },
     "execution_count": 186,
     "metadata": {},
     "output_type": "execute_result"
    }
   ],
   "source": [
    "def genrate_ids(n: int):\n",
    "        return np.array([(uuid.uuid4().int & ((1 << 64) - 1)) for _ in range(n)]).astype('int64')\n",
    "genrate_ids(100)"
   ]
  }
 ],
 "metadata": {
  "kernelspec": {
   "display_name": "venv",
   "language": "python",
   "name": "python3"
  },
  "language_info": {
   "codemirror_mode": {
    "name": "ipython",
    "version": 3
   },
   "file_extension": ".py",
   "mimetype": "text/x-python",
   "name": "python",
   "nbconvert_exporter": "python",
   "pygments_lexer": "ipython3",
   "version": "3.12.2"
  }
 },
 "nbformat": 4,
 "nbformat_minor": 2
}
